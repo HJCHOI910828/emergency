{
  "nbformat": 4,
  "nbformat_minor": 0,
  "metadata": {
    "colab": {
      "name": "4_텐서플로 MNIST 실습.ipynb",
      "provenance": [],
      "collapsed_sections": [],
      "mount_file_id": "17npkmQYKh1ZvkWb2o60KwWeFphXEJA7X",
      "authorship_tag": "ABX9TyPFyhUvj1AGWNYYGSgUBuEK",
      "include_colab_link": true
    },
    "kernelspec": {
      "name": "python3",
      "display_name": "Python 3"
    },
    "language_info": {
      "name": "python"
    }
  },
  "cells": [
    {
      "cell_type": "markdown",
      "metadata": {
        "id": "view-in-github",
        "colab_type": "text"
      },
      "source": [
        "<a href=\"https://colab.research.google.com/github/chhak2021/Colab/blob/main/4_%ED%85%90%EC%84%9C%ED%94%8C%EB%A1%9C_MNIST_%EC%8B%A4%EC%8A%B5.ipynb\" target=\"_parent\"><img src=\"https://colab.research.google.com/assets/colab-badge.svg\" alt=\"Open In Colab\"/></a>"
      ]
    },
    {
      "cell_type": "code",
      "metadata": {
        "colab": {
          "base_uri": "https://localhost:8080/",
          "height": 35
        },
        "id": "KUJJ9HyiidJL",
        "outputId": "7f00c5b5-ce9e-4338-ff3d-e2e6d398b08a"
      },
      "source": [
        "\"\"\"\n",
        "날짜 : 2021/07/12\n",
        "이름 : 김철학\n",
        "내용 : 텐서플로 MNIST 딥러닝 실습하기\n",
        "\"\"\"\n",
        "import tensorflow as tf\n",
        "import numpy as np\n",
        "import pandas as pd\n",
        "import matplotlib.pyplot as plt\n",
        "from tensorflow.keras.datasets.mnist import load_data\n",
        "from tensorflow.keras.models import Sequential\n",
        "from tensorflow.keras.layers import Dense, Flatten\n",
        "from tensorflow.keras.optimizers import Adam\n",
        "from tensorflow.keras.losses import mse\n",
        "from tensorflow.keras.utils import to_categorical\n",
        "from sklearn.preprocessing import LabelEncoder\n",
        "from sklearn.model_selection import train_test_split\n",
        "from sklearn.metrics import accuracy_score\n",
        "from PIL import Image\n",
        "from google.colab import drive\n",
        "tf.__version__"
      ],
      "execution_count": 56,
      "outputs": [
        {
          "output_type": "execute_result",
          "data": {
            "application/vnd.google.colaboratory.intrinsic+json": {
              "type": "string"
            },
            "text/plain": [
              "'2.5.0'"
            ]
          },
          "metadata": {
            "tags": []
          },
          "execution_count": 56
        }
      ]
    },
    {
      "cell_type": "code",
      "metadata": {
        "id": "S1FRpnfCjEg1"
      },
      "source": [
        "#학습데이터 불러오기\n",
        "(mnist_train_data, mnist_train_label), (mnist_test_data, mnist_test_label) = load_data()"
      ],
      "execution_count": 30,
      "outputs": []
    },
    {
      "cell_type": "code",
      "metadata": {
        "colab": {
          "base_uri": "https://localhost:8080/"
        },
        "id": "9ZvIEAkljq7Q",
        "outputId": "613c4335-1a08-4ea6-ee8a-34a8f3af66e8"
      },
      "source": [
        "#데이터확인\n",
        "print(mnist_train_data.shape, mnist_train_label.shape)\n",
        "print(mnist_test_data.shape, mnist_test_label.shape)"
      ],
      "execution_count": 31,
      "outputs": [
        {
          "output_type": "stream",
          "text": [
            "(60000, 28, 28) (60000,)\n",
            "(10000, 28, 28) (10000,)\n"
          ],
          "name": "stdout"
        }
      ]
    },
    {
      "cell_type": "code",
      "metadata": {
        "colab": {
          "base_uri": "https://localhost:8080/",
          "height": 258
        },
        "id": "ozQjGuvZj7z_",
        "outputId": "f0baaa61-a1d4-443d-ee14-ae4b7a696443"
      },
      "source": [
        "#샘플 이미지 출력\n",
        "random_idx = np.random.randint(60000, size=5)\n",
        "print(random_idx)\n",
        "\n",
        "plt.figure(figsize=(5, 5))\n",
        "\n",
        "for i, idx in enumerate(random_idx):\n",
        "  plt.subplot(3, 3, i+1)\n",
        "  label = mnist_train_label[idx]\n",
        "  plt.imshow(mnist_train_data[idx, :])\n",
        "  plt.title('number : %d' % label)"
      ],
      "execution_count": 32,
      "outputs": [
        {
          "output_type": "stream",
          "text": [
            "[ 4251  8035 41050  9900 44356]\n"
          ],
          "name": "stdout"
        },
        {
          "output_type": "display_data",
          "data": {
            "image/png": "[encoded data removed]",
            "text/plain": [
              "<Figure size 360x360 with 5 Axes>"
            ]
          },
          "metadata": {
            "tags": [],
            "needs_background": "light"
          }
        }
      ]
    },
    {
      "cell_type": "code",
      "metadata": {
        "id": "WRVf--c4kC4_"
      },
      "source": [
        "#학습을 위한 데이터 전처리(정규화)\n",
        "mnist_train_data = mnist_train_data / 255\n",
        "mnist_test_data = mnist_test_data / 255\n",
        "\n",
        "#라벨 원핫코딩\n",
        "mnist_train_label = to_categorical(mnist_train_label)\n",
        "mnist_test_label = to_categorical(mnist_test_label)"
      ],
      "execution_count": 33,
      "outputs": []
    },
    {
      "cell_type": "code",
      "metadata": {
        "colab": {
          "base_uri": "https://localhost:8080/"
        },
        "id": "Aqd4X_0rpyJI",
        "outputId": "aefa82cf-c9de-4500-b754-52f3c6c3efeb"
      },
      "source": [
        "#학습모델 설계\n",
        "model = Sequential()\n",
        "model.add(Flatten(input_shape=(28, 28)))\n",
        "model.add(Dense(units=64, activation='relu'))\n",
        "model.add(Dense(units=32, activation='relu'))\n",
        "model.add(Dense(units=10, activation='softmax'))\n",
        "\n",
        "model.summary()"
      ],
      "execution_count": 58,
      "outputs": [
        {
          "output_type": "stream",
          "text": [
            "Model: \"sequential_7\"\n",
            "_________________________________________________________________\n",
            "Layer (type)                 Output Shape              Param #   \n",
            "=================================================================\n",
            "flatten_6 (Flatten)          (None, 784)               0         \n",
            "_________________________________________________________________\n",
            "dense_18 (Dense)             (None, 64)                50240     \n",
            "_________________________________________________________________\n",
            "dense_19 (Dense)             (None, 32)                2080      \n",
            "_________________________________________________________________\n",
            "dense_20 (Dense)             (None, 10)                330       \n",
            "=================================================================\n",
            "Total params: 52,650\n",
            "Trainable params: 52,650\n",
            "Non-trainable params: 0\n",
            "_________________________________________________________________\n"
          ],
          "name": "stdout"
        }
      ]
    },
    {
      "cell_type": "code",
      "metadata": {
        "id": "RFT6jkaSqYHY"
      },
      "source": [
        "#학습모델 설정\n",
        "model.compile(loss='categorical_crossentropy', optimizer='Adam', metrics=['acc'])"
      ],
      "execution_count": 59,
      "outputs": []
    },
    {
      "cell_type": "code",
      "metadata": {
        "colab": {
          "base_uri": "https://localhost:8080/"
        },
        "id": "_x2zvWbzq5ov",
        "outputId": "aae8be76-8447-4e14-feb0-559d3088cc9c"
      },
      "source": [
        "#학습하기\n",
        "model.fit(mnist_train_data, mnist_train_label, epochs=10)"
      ],
      "execution_count": 60,
      "outputs": [
        {
          "output_type": "stream",
          "text": [
            "Epoch 1/10\n",
            "1875/1875 [==============================] - 3s 2ms/step - loss: 0.3004 - acc: 0.9144\n",
            "Epoch 2/10\n",
            "1875/1875 [==============================] - 3s 2ms/step - loss: 0.1333 - acc: 0.9605\n",
            "Epoch 3/10\n",
            "1875/1875 [==============================] - 3s 2ms/step - loss: 0.0968 - acc: 0.9710\n",
            "Epoch 4/10\n",
            "1875/1875 [==============================] - 3s 2ms/step - loss: 0.0759 - acc: 0.9768\n",
            "Epoch 5/10\n",
            "1875/1875 [==============================] - 3s 2ms/step - loss: 0.0638 - acc: 0.9798\n",
            "Epoch 6/10\n",
            "1875/1875 [==============================] - 3s 2ms/step - loss: 0.0523 - acc: 0.9838\n",
            "Epoch 7/10\n",
            "1875/1875 [==============================] - 3s 2ms/step - loss: 0.0454 - acc: 0.9852\n",
            "Epoch 8/10\n",
            "1875/1875 [==============================] - 3s 2ms/step - loss: 0.0390 - acc: 0.9870\n",
            "Epoch 9/10\n",
            "1875/1875 [==============================] - 3s 2ms/step - loss: 0.0345 - acc: 0.9888\n",
            "Epoch 10/10\n",
            "1875/1875 [==============================] - 3s 2ms/step - loss: 0.0298 - acc: 0.9901\n"
          ],
          "name": "stdout"
        },
        {
          "output_type": "execute_result",
          "data": {
            "text/plain": [
              "<tensorflow.python.keras.callbacks.History at 0x7f5bf4614d90>"
            ]
          },
          "metadata": {
            "tags": []
          },
          "execution_count": 60
        }
      ]
    },
    {
      "cell_type": "code",
      "metadata": {
        "colab": {
          "base_uri": "https://localhost:8080/"
        },
        "id": "UQOmxZSKrEcW",
        "outputId": "e7431849-78a2-4658-8bbd-5aff2799c33a"
      },
      "source": [
        "#평가하기\n",
        "model.evaluate(mnist_test_data, mnist_test_label)"
      ],
      "execution_count": 61,
      "outputs": [
        {
          "output_type": "stream",
          "text": [
            "313/313 [==============================] - 0s 1ms/step - loss: 0.0992 - acc: 0.9728\n"
          ],
          "name": "stdout"
        },
        {
          "output_type": "execute_result",
          "data": {
            "text/plain": [
              "[0.0991632416844368, 0.9728000164031982]"
            ]
          },
          "metadata": {
            "tags": []
          },
          "execution_count": 61
        }
      ]
    },
    {
      "cell_type": "code",
      "metadata": {
        "colab": {
          "base_uri": "https://localhost:8080/"
        },
        "id": "BfyBzbVBtrDU",
        "outputId": "80408933-4a36-4708-832b-769153e47a1e"
      },
      "source": [
        "#테스트하기\n",
        "result = model.predict(mnist_test_data)\n",
        "score = accuracy_score(result.round(), mnist_test_label)\n",
        "print('score :', score)\n",
        "\n",
        "for i in range(20):\n",
        "  print('-------------------------------------')\n",
        "  print('결과 :', result[i].round())\n",
        "  print('정답 :', mnist_test_label[i])"
      ],
      "execution_count": 68,
      "outputs": [
        {
          "output_type": "stream",
          "text": [
            "score : 0.9724\n",
            "-------------------------------------\n",
            "결과 : [0. 0. 0. 0. 0. 0. 0. 1. 0. 0.]\n",
            "정답 : [0. 0. 0. 0. 0. 0. 0. 1. 0. 0.]\n",
            "-------------------------------------\n",
            "결과 : [0. 0. 1. 0. 0. 0. 0. 0. 0. 0.]\n",
            "정답 : [0. 0. 1. 0. 0. 0. 0. 0. 0. 0.]\n",
            "-------------------------------------\n",
            "결과 : [0. 1. 0. 0. 0. 0. 0. 0. 0. 0.]\n",
            "정답 : [0. 1. 0. 0. 0. 0. 0. 0. 0. 0.]\n",
            "-------------------------------------\n",
            "결과 : [1. 0. 0. 0. 0. 0. 0. 0. 0. 0.]\n",
            "정답 : [1. 0. 0. 0. 0. 0. 0. 0. 0. 0.]\n",
            "-------------------------------------\n",
            "결과 : [0. 0. 0. 0. 1. 0. 0. 0. 0. 0.]\n",
            "정답 : [0. 0. 0. 0. 1. 0. 0. 0. 0. 0.]\n",
            "-------------------------------------\n",
            "결과 : [0. 1. 0. 0. 0. 0. 0. 0. 0. 0.]\n",
            "정답 : [0. 1. 0. 0. 0. 0. 0. 0. 0. 0.]\n",
            "-------------------------------------\n",
            "결과 : [0. 0. 0. 0. 1. 0. 0. 0. 0. 0.]\n",
            "정답 : [0. 0. 0. 0. 1. 0. 0. 0. 0. 0.]\n",
            "-------------------------------------\n",
            "결과 : [0. 0. 0. 0. 0. 0. 0. 0. 0. 1.]\n",
            "정답 : [0. 0. 0. 0. 0. 0. 0. 0. 0. 1.]\n",
            "-------------------------------------\n",
            "결과 : [0. 0. 0. 0. 0. 1. 0. 0. 0. 0.]\n",
            "정답 : [0. 0. 0. 0. 0. 1. 0. 0. 0. 0.]\n",
            "-------------------------------------\n",
            "결과 : [0. 0. 0. 0. 0. 0. 0. 0. 0. 1.]\n",
            "정답 : [0. 0. 0. 0. 0. 0. 0. 0. 0. 1.]\n",
            "-------------------------------------\n",
            "결과 : [1. 0. 0. 0. 0. 0. 0. 0. 0. 0.]\n",
            "정답 : [1. 0. 0. 0. 0. 0. 0. 0. 0. 0.]\n",
            "-------------------------------------\n",
            "결과 : [0. 0. 0. 0. 0. 0. 1. 0. 0. 0.]\n",
            "정답 : [0. 0. 0. 0. 0. 0. 1. 0. 0. 0.]\n",
            "-------------------------------------\n",
            "결과 : [0. 0. 0. 0. 0. 0. 0. 0. 0. 1.]\n",
            "정답 : [0. 0. 0. 0. 0. 0. 0. 0. 0. 1.]\n",
            "-------------------------------------\n",
            "결과 : [1. 0. 0. 0. 0. 0. 0. 0. 0. 0.]\n",
            "정답 : [1. 0. 0. 0. 0. 0. 0. 0. 0. 0.]\n",
            "-------------------------------------\n",
            "결과 : [0. 1. 0. 0. 0. 0. 0. 0. 0. 0.]\n",
            "정답 : [0. 1. 0. 0. 0. 0. 0. 0. 0. 0.]\n",
            "-------------------------------------\n",
            "결과 : [0. 0. 0. 0. 0. 1. 0. 0. 0. 0.]\n",
            "정답 : [0. 0. 0. 0. 0. 1. 0. 0. 0. 0.]\n",
            "-------------------------------------\n",
            "결과 : [0. 0. 0. 0. 0. 0. 0. 0. 0. 1.]\n",
            "정답 : [0. 0. 0. 0. 0. 0. 0. 0. 0. 1.]\n",
            "-------------------------------------\n",
            "결과 : [0. 0. 0. 0. 0. 0. 0. 1. 0. 0.]\n",
            "정답 : [0. 0. 0. 0. 0. 0. 0. 1. 0. 0.]\n",
            "-------------------------------------\n",
            "결과 : [0. 0. 0. 1. 0. 0. 0. 0. 0. 0.]\n",
            "정답 : [0. 0. 0. 1. 0. 0. 0. 0. 0. 0.]\n",
            "-------------------------------------\n",
            "결과 : [0. 0. 0. 0. 1. 0. 0. 0. 0. 0.]\n",
            "정답 : [0. 0. 0. 0. 1. 0. 0. 0. 0. 0.]\n"
          ],
          "name": "stdout"
        }
      ]
    },
    {
      "cell_type": "code",
      "metadata": {
        "id": "LSPi2DGQt2C2"
      },
      "source": [
        "#이미지 출력\n",
        "plt.imshow(mnist_test_data[18].reshape(28, 28))"
      ],
      "execution_count": null,
      "outputs": []
    },
    {
      "cell_type": "code",
      "metadata": {
        "id": "tvEICiTU2mae"
      },
      "source": [
        "#새로운 이미지 불러오기\n",
        "img_num1 = Image.open('/content/drive/MyDrive/Colab Notebooks/file/mnist_num1.jpg')\n",
        "img_num2 = Image.open('/content/drive/MyDrive/Colab Notebooks/file/mnist_num2.jpg')\n",
        "img_num3 = Image.open('/content/drive/MyDrive/Colab Notebooks/file/mnist_num3.jpg')\n",
        "img_num4 = Image.open('/content/drive/MyDrive/Colab Notebooks/file/mnist_num4.jpg')\n",
        "img_num5 = Image.open('/content/drive/MyDrive/Colab Notebooks/file/mnist_num5.jpg')"
      ],
      "execution_count": 69,
      "outputs": []
    },
    {
      "cell_type": "code",
      "metadata": {
        "id": "0ptvK5RC2mX2"
      },
      "source": [
        "#이미지 파일의 픽셀 데이터 변환\n",
        "px_img_num1 = np.array(img_num1)\n",
        "px_img_num2 = np.array(img_num2)\n",
        "px_img_num3 = np.array(img_num3)\n",
        "px_img_num4 = np.array(img_num4)\n",
        "px_img_num5 = np.array(img_num5)"
      ],
      "execution_count": 72,
      "outputs": []
    },
    {
      "cell_type": "code",
      "metadata": {
        "colab": {
          "base_uri": "https://localhost:8080/"
        },
        "id": "g51UVFpp2mSO",
        "outputId": "fc284674-a513-4e7a-ee33-f0a7d4f5be08"
      },
      "source": [
        "#새로운 이미지 인식여부 확인\n",
        "img_arr = np.array([px_img_num1, px_img_num2, px_img_num3, px_img_num4, px_img_num5])\n",
        "img_arr = img_arr / 255\n",
        "\n",
        "result = model.predict(img_arr)\n",
        "print(result.round())"
      ],
      "execution_count": 78,
      "outputs": [
        {
          "output_type": "stream",
          "text": [
            "[[0. 1. 0. 0. 0. 0. 0. 0. 0. 0.]\n",
            " [0. 0. 0. 1. 0. 0. 0. 0. 0. 0.]\n",
            " [0. 0. 0. 1. 0. 0. 0. 0. 0. 0.]\n",
            " [0. 0. 0. 1. 0. 0. 0. 0. 0. 0.]\n",
            " [0. 0. 0. 0. 0. 1. 0. 0. 0. 0.]]\n"
          ],
          "name": "stdout"
        }
      ]
    },
    {
      "cell_type": "code",
      "metadata": {
        "id": "UjANI_5S2mP1"
      },
      "source": [
        ""
      ],
      "execution_count": null,
      "outputs": []
    },
    {
      "cell_type": "code",
      "metadata": {
        "id": "0OIlUTxq2mNN"
      },
      "source": [
        ""
      ],
      "execution_count": null,
      "outputs": []
    },
    {
      "cell_type": "code",
      "metadata": {
        "id": "yPHmZT162mKu"
      },
      "source": [
        ""
      ],
      "execution_count": null,
      "outputs": []
    },
    {
      "cell_type": "code",
      "metadata": {
        "id": "96HZ0Npv2mCe"
      },
      "source": [
        ""
      ],
      "execution_count": null,
      "outputs": []
    },
    {
      "cell_type": "code",
      "metadata": {
        "id": "s361e6HGvXj1"
      },
      "source": [
        ""
      ],
      "execution_count": null,
      "outputs": []
    },
    {
      "cell_type": "code",
      "metadata": {
        "id": "Nm8pgGKIytdd"
      },
      "source": [
        "####################################################################\n",
        "# MNIST 두번째 타입 예제"
      ],
      "execution_count": null,
      "outputs": []
    },
    {
      "cell_type": "code",
      "metadata": {
        "id": "Abq2epnPytX9"
      },
      "source": [
        "#데이터 불러오기\n",
        "df_mnist_train = pd.read_csv('/content/drive/MyDrive/Colab Notebooks/file/mnist_train.csv', header=None)\n",
        "df_mnist_test  = pd.read_csv('/content/drive/MyDrive/Colab Notebooks/file/mnist_test.csv', header=None)\n",
        "\n",
        "mnist_train_data  = df_mnist_train.iloc[:10000, 1:] / 255\n",
        "mnist_train_label = df_mnist_train.iloc[:10000, 0]\n",
        "\n",
        "mnist_test_data  = df_mnist_test.iloc[:, 1:] / 255\n",
        "mnist_test_label = df_mnist_test.iloc[:, 0]\n",
        "\n",
        "mnist_train_label[2]"
      ],
      "execution_count": null,
      "outputs": []
    },
    {
      "cell_type": "code",
      "metadata": {
        "id": "h_5qSoTnytCe"
      },
      "source": [
        "#데이터 라벨을 원-핫 인코딩으로 변환\n",
        "train_label_cate = to_categorical(mnist_train_label)\n",
        "test_label_cate  = to_categorical(mnist_test_label)\n",
        "train_label_cate[2]"
      ],
      "execution_count": null,
      "outputs": []
    },
    {
      "cell_type": "code",
      "metadata": {
        "id": "xePbv8ory3Bf"
      },
      "source": [
        "#학습모델 설계\n",
        "model = Sequential()\n",
        "model.add(Dense(units=784, input_dim=784, activation='sigmoid'))\n",
        "model.add(Dense(units=10, activation='sigmoid'))"
      ],
      "execution_count": null,
      "outputs": []
    },
    {
      "cell_type": "code",
      "metadata": {
        "id": "qPy61vf0y2_W"
      },
      "source": [
        "#학습모델 설정\n",
        "model.compile(loss='categorical_crossentropy',\n",
        "              optimizer='Adam',\n",
        "              metrics=['acc'])"
      ],
      "execution_count": null,
      "outputs": []
    },
    {
      "cell_type": "code",
      "metadata": {
        "id": "ZZYm042By28u"
      },
      "source": [
        "#학습하기\n",
        "model.fit(mnist_train_data, train_label_cate, epochs=100)"
      ],
      "execution_count": null,
      "outputs": []
    },
    {
      "cell_type": "code",
      "metadata": {
        "id": "lCNeMdvSy25_"
      },
      "source": [
        "#검증하기\n",
        "result = model.evaluate(mnist_test_data, test_label_cate)\n",
        "result"
      ],
      "execution_count": null,
      "outputs": []
    }
  ]
}