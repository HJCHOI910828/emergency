{
  "nbformat": 4,
  "nbformat_minor": 0,
  "metadata": {
    "colab": {
      "name": "6_텐서플로 CNN 모델 사용.ipynb",
      "provenance": [],
      "collapsed_sections": [],
      "mount_file_id": "1ygvd_hLAW5YGE8Xq-Os8PAdueCBI3zLx",
      "authorship_tag": "ABX9TyP47Vy0jTxTMh4z0duP0Ckz",
      "include_colab_link": true
    },
    "kernelspec": {
      "name": "python3",
      "display_name": "Python 3"
    },
    "language_info": {
      "name": "python"
    },
    "accelerator": "GPU"
  },
  "cells": [
    {
      "cell_type": "markdown",
      "metadata": {
        "id": "view-in-github",
        "colab_type": "text"
      },
      "source": [
        "<a href=\"https://colab.research.google.com/github/chhak2021/Colab/blob/main/6_%ED%85%90%EC%84%9C%ED%94%8C%EB%A1%9C_CNN_%EB%AA%A8%EB%8D%B8_%EC%82%AC%EC%9A%A9.ipynb\" target=\"_parent\"><img src=\"https://colab.research.google.com/assets/colab-badge.svg\" alt=\"Open In Colab\"/></a>"
      ]
    },
    {
      "cell_type": "code",
      "metadata": {
        "colab": {
          "base_uri": "https://localhost:8080/",
          "height": 34
        },
        "id": "hUhnMbLoq7_M",
        "outputId": "204c7509-4e6b-42df-aa77-0777a5f22143"
      },
      "source": [
        "\"\"\"\n",
        "날짜 : 2021/07/13\n",
        "이름 : 김철학\n",
        "내용 : 텐서플로 Cifar CNN 모델 사용하기\n",
        "\"\"\"\n",
        "import tensorflow as tf\n",
        "from tensorflow.keras.datasets.cifar10 import load_data\n",
        "from tensorflow.keras.utils import to_categorical\n",
        "from tensorflow.keras.models import load_model\n",
        "tf.__version__"
      ],
      "execution_count": 1,
      "outputs": [
        {
          "output_type": "execute_result",
          "data": {
            "application/vnd.google.colaboratory.intrinsic+json": {
              "type": "string"
            },
            "text/plain": [
              "'2.5.0'"
            ]
          },
          "metadata": {
            "tags": []
          },
          "execution_count": 1
        }
      ]
    },
    {
      "cell_type": "code",
      "metadata": {
        "id": "AshlBnnpsEt_"
      },
      "source": [
        "#데이터 불러오기\n",
        "(cifar_train_data, cifar_train_label), (cifar_test_data, cifar_test_label) = load_data()"
      ],
      "execution_count": 4,
      "outputs": []
    },
    {
      "cell_type": "code",
      "metadata": {
        "id": "o51vqJhjsOSY"
      },
      "source": [
        "#모델학습을 위한 데이터 전처리(정규화)\n",
        "cifar_train_data = cifar_train_data / 255\n",
        "cifar_test_data = cifar_test_data / 255\n",
        "\n",
        "#데이터의 라벨을 범주형(one-hot encoding)으로 변환\n",
        "cifar_train_label = to_categorical(cifar_train_label)\n",
        "cifar_test_label = to_categorical(cifar_test_label)"
      ],
      "execution_count": 5,
      "outputs": []
    },
    {
      "cell_type": "code",
      "metadata": {
        "id": "3fmFBW88rcn_"
      },
      "source": [
        "#외부 모델 불러오기\n",
        "model = load_model('/content/drive/MyDrive/Colab Notebooks/file/cifar_model.h5')\n",
        "model.summary()"
      ],
      "execution_count": null,
      "outputs": []
    },
    {
      "cell_type": "code",
      "metadata": {
        "colab": {
          "base_uri": "https://localhost:8080/"
        },
        "id": "mtBnBgbmryhA",
        "outputId": "1400ab1a-4fc4-4913-b8d5-199e43bebe04"
      },
      "source": [
        "#평가하기\n",
        "model.evaluate(cifar_test_data, cifar_test_label)"
      ],
      "execution_count": 7,
      "outputs": [
        {
          "output_type": "stream",
          "text": [
            "313/313 [==============================] - 30s 7ms/step - loss: 0.6947 - acc: 0.8023\n"
          ],
          "name": "stdout"
        },
        {
          "output_type": "execute_result",
          "data": {
            "text/plain": [
              "[0.6946777105331421, 0.802299976348877]"
            ]
          },
          "metadata": {
            "tags": []
          },
          "execution_count": 7
        }
      ]
    }
  ]
}