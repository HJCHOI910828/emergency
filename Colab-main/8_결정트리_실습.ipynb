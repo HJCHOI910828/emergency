{
  "nbformat": 4,
  "nbformat_minor": 0,
  "metadata": {
    "colab": {
      "name": "8_결정트리 실습.ipynb",
      "provenance": [],
      "collapsed_sections": [],
      "mount_file_id": "1ZBxKovHPZiOOuGXS_ImCcc_4YZWX0za-",
      "authorship_tag": "ABX9TyOfz6H62fSRFVpaE77XddKW",
      "include_colab_link": true
    },
    "kernelspec": {
      "name": "python3",
      "display_name": "Python 3"
    },
    "language_info": {
      "name": "python"
    }
  },
  "cells": [
    {
      "cell_type": "markdown",
      "metadata": {
        "id": "view-in-github",
        "colab_type": "text"
      },
      "source": [
        "<a href=\"https://colab.research.google.com/github/chhak2021/Colab/blob/main/8_%EA%B2%B0%EC%A0%95%ED%8A%B8%EB%A6%AC_%EC%8B%A4%EC%8A%B5.ipynb\" target=\"_parent\"><img src=\"https://colab.research.google.com/assets/colab-badge.svg\" alt=\"Open In Colab\"/></a>"
      ]
    },
    {
      "cell_type": "code",
      "metadata": {
        "id": "GUz482Q7tI0E"
      },
      "source": [
        "\"\"\"\n",
        "날짜 : 2021/07/09\n",
        "이름 : 김철학\n",
        "내용 : 결정트리 실습하기\n",
        "\"\"\"\n",
        "from sklearn import tree\n",
        "import pydotplus\n",
        "from google.colab import drive"
      ],
      "execution_count": null,
      "outputs": []
    },
    {
      "cell_type": "code",
      "metadata": {
        "id": "LgAkSv4Ptlwb"
      },
      "source": [
        "#데이터 준비\n",
        "train_data  = [[180, 70], [167, 52], [159, 62], [174, 65], [172, 58],\n",
        "               [162, 55], [177, 62], [186, 72], [175, 60], [156, 52]]\n",
        "\n",
        "train_label = [1, 2, 2, 1, 2, 2, 1, 1, 2, 2]\n"
      ],
      "execution_count": null,
      "outputs": []
    },
    {
      "cell_type": "code",
      "metadata": {
        "colab": {
          "base_uri": "https://localhost:8080/"
        },
        "id": "b8r_HkLRuUKM",
        "outputId": "6861f48c-d535-42ab-81a5-e22e78c637ed"
      },
      "source": [
        "#학습하기\n",
        "model = tree.DecisionTreeClassifier()\n",
        "model.fit(train_data, train_label)"
      ],
      "execution_count": null,
      "outputs": [
        {
          "output_type": "execute_result",
          "data": {
            "text/plain": [
              "DecisionTreeClassifier(ccp_alpha=0.0, class_weight=None, criterion='gini',\n",
              "                       max_depth=None, max_features=None, max_leaf_nodes=None,\n",
              "                       min_impurity_decrease=0.0, min_impurity_split=None,\n",
              "                       min_samples_leaf=1, min_samples_split=2,\n",
              "                       min_weight_fraction_leaf=0.0, presort='deprecated',\n",
              "                       random_state=None, splitter='best')"
            ]
          },
          "metadata": {
            "tags": []
          },
          "execution_count": 3
        }
      ]
    },
    {
      "cell_type": "code",
      "metadata": {
        "colab": {
          "base_uri": "https://localhost:8080/"
        },
        "id": "tJMg-ZRsubMM",
        "outputId": "9d600e79-d821-4989-a4c4-8e718bc1d32b"
      },
      "source": [
        "#테스트하기\n",
        "test_data = [[181, 62], [171, 62], [164, 52], [160, 64], [169, 59]]\n",
        "result = model.predict(test_data)\n",
        "result"
      ],
      "execution_count": null,
      "outputs": [
        {
          "output_type": "execute_result",
          "data": {
            "text/plain": [
              "array([1, 2, 2, 2, 2])"
            ]
          },
          "metadata": {
            "tags": []
          },
          "execution_count": 4
        }
      ]
    },
    {
      "cell_type": "code",
      "metadata": {
        "colab": {
          "base_uri": "https://localhost:8080/"
        },
        "id": "8cIPjw3Fu0tE",
        "outputId": "2388819e-a797-4f74-aade-c53fd87bf2d6"
      },
      "source": [
        "#모델 시각화\n",
        "graph_tree = tree.export_graphviz(model, \n",
        "                                  out_file=None, \n",
        "                                  feature_names=['height', 'weight'],\n",
        "                                  filled=True)\n",
        "\n",
        "graph = pydotplus.graph_from_dot_data(graph_tree)\n",
        "graph.write_png('/content/drive/MyDrive/Colab Notebooks/file/result_tree.png')"
      ],
      "execution_count": null,
      "outputs": [
        {
          "output_type": "execute_result",
          "data": {
            "text/plain": [
              "True"
            ]
          },
          "metadata": {
            "tags": []
          },
          "execution_count": 8
        }
      ]
    },
    {
      "cell_type": "code",
      "metadata": {
        "id": "TshxTeJsvmTt"
      },
      "source": [
        ""
      ],
      "execution_count": null,
      "outputs": []
    }
  ]
}