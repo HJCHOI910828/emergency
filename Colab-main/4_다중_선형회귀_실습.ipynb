{
  "nbformat": 4,
  "nbformat_minor": 0,
  "metadata": {
    "colab": {
      "name": "4_다중 선형회귀 실습.ipynb",
      "provenance": [],
      "collapsed_sections": [],
      "authorship_tag": "ABX9TyMb9nDONpAD9NuonKWeNKj3",
      "include_colab_link": true
    },
    "kernelspec": {
      "name": "python3",
      "display_name": "Python 3"
    },
    "language_info": {
      "name": "python"
    }
  },
  "cells": [
    {
      "cell_type": "markdown",
      "metadata": {
        "id": "view-in-github",
        "colab_type": "text"
      },
      "source": [
        "<a href=\"https://colab.research.google.com/github/chhak2021/Colab/blob/main/4_%EB%8B%A4%EC%A4%91_%EC%84%A0%ED%98%95%ED%9A%8C%EA%B7%80_%EC%8B%A4%EC%8A%B5.ipynb\" target=\"_parent\"><img src=\"https://colab.research.google.com/assets/colab-badge.svg\" alt=\"Open In Colab\"/></a>"
      ]
    },
    {
      "cell_type": "code",
      "metadata": {
        "id": "opyhB_E9jP95"
      },
      "source": [
        "\"\"\"\n",
        "날짜 : 2021/07/07\n",
        "이름 : 김철학\n",
        "내용 : 다중 선형회귀 분석 실습하기\n",
        "\"\"\"\n",
        "from sklearn.linear_model import LinearRegression\n",
        "from sklearn import svm"
      ],
      "execution_count": 5,
      "outputs": []
    },
    {
      "cell_type": "code",
      "metadata": {
        "id": "I9qAZXnvjdTA"
      },
      "source": [
        "#학습데이터\n",
        "train_data = [[170, 30], [155, 60], [150, 50], [175, 40], [165, 20]]\n",
        "train_label = [65, 50, 45, 70, 55]"
      ],
      "execution_count": 2,
      "outputs": []
    },
    {
      "cell_type": "code",
      "metadata": {
        "colab": {
          "base_uri": "https://localhost:8080/"
        },
        "id": "dHZ16v90jtA3",
        "outputId": "a1b06e9f-5068-4b9f-b095-f3e84fbce768"
      },
      "source": [
        "#학습하기\n",
        "#model = LinearRegression()\n",
        "model = svm.SVC()\n",
        "model.fit(train_data, train_label)"
      ],
      "execution_count": 6,
      "outputs": [
        {
          "output_type": "execute_result",
          "data": {
            "text/plain": [
              "SVC(C=1.0, break_ties=False, cache_size=200, class_weight=None, coef0=0.0,\n",
              "    decision_function_shape='ovr', degree=3, gamma='scale', kernel='rbf',\n",
              "    max_iter=-1, probability=False, random_state=None, shrinking=True,\n",
              "    tol=0.001, verbose=False)"
            ]
          },
          "metadata": {
            "tags": []
          },
          "execution_count": 6
        }
      ]
    },
    {
      "cell_type": "code",
      "metadata": {
        "colab": {
          "base_uri": "https://localhost:8080/"
        },
        "id": "kyK9GNL8kPrX",
        "outputId": "5f15e67f-5794-4c7d-da74-c59b78dd0492"
      },
      "source": [
        "#테스트하기\n",
        "test_data = [[172, 21], [186, 43], [178, 39]]\n",
        "result = model.predict(test_data)\n",
        "result"
      ],
      "execution_count": 7,
      "outputs": [
        {
          "output_type": "execute_result",
          "data": {
            "text/plain": [
              "array([55, 70, 70])"
            ]
          },
          "metadata": {
            "tags": []
          },
          "execution_count": 7
        }
      ]
    },
    {
      "cell_type": "code",
      "metadata": {
        "id": "YNWD11iCkcaI"
      },
      "source": [
        "#다중선형회귀 문제\n",
        "#학습데이터\n",
        "train_data = [[170, 30, 1], [155, 60, 2], [150, 50, 2], [175, 40, 1], [165, 20, 1]]\n",
        "train_label = [65, 50, 45, 70, 55]"
      ],
      "execution_count": 8,
      "outputs": []
    },
    {
      "cell_type": "code",
      "metadata": {
        "colab": {
          "base_uri": "https://localhost:8080/"
        },
        "id": "qf1NVjwQmLv8",
        "outputId": "186da243-51a7-4bd3-aa61-c27d80d7fc9e"
      },
      "source": [
        "#학습모델\n",
        "model = LinearRegression()\n",
        "model.fit(train_data, train_label)"
      ],
      "execution_count": 9,
      "outputs": [
        {
          "output_type": "execute_result",
          "data": {
            "text/plain": [
              "LinearRegression(copy_X=True, fit_intercept=True, n_jobs=None, normalize=False)"
            ]
          },
          "metadata": {
            "tags": []
          },
          "execution_count": 9
        }
      ]
    },
    {
      "cell_type": "code",
      "metadata": {
        "colab": {
          "base_uri": "https://localhost:8080/"
        },
        "id": "EW1lKVLTmS5v",
        "outputId": "3899eaab-fb5a-459c-ee2f-f3cf196ad467"
      },
      "source": [
        "#테스트하기\n",
        "test_data = [[176, 25, 1], [176, 25, 2], [176, 72, 1]]\n",
        "result = model.predict(test_data)\n",
        "result"
      ],
      "execution_count": 10,
      "outputs": [
        {
          "output_type": "execute_result",
          "data": {
            "text/plain": [
              "array([69.26797966, 69.23339806, 76.08395747])"
            ]
          },
          "metadata": {
            "tags": []
          },
          "execution_count": 10
        }
      ]
    }
  ]
}