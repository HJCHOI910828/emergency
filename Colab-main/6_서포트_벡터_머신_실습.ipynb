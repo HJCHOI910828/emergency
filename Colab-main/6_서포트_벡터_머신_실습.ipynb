{
  "nbformat": 4,
  "nbformat_minor": 0,
  "metadata": {
    "colab": {
      "name": "6_서포트 벡터 머신 실습.ipynb",
      "provenance": [],
      "collapsed_sections": [],
      "mount_file_id": "1SMp9WVHXXYRSMjEpc3p_-f_g7zy2Flzl",
      "authorship_tag": "ABX9TyPgAGG9eqo11XkjDHdxIhUC",
      "include_colab_link": true
    },
    "kernelspec": {
      "name": "python3",
      "display_name": "Python 3"
    },
    "language_info": {
      "name": "python"
    }
  },
  "cells": [
    {
      "cell_type": "markdown",
      "metadata": {
        "id": "view-in-github",
        "colab_type": "text"
      },
      "source": [
        "<a href=\"https://colab.research.google.com/github/chhak2021/Colab/blob/main/6_%EC%84%9C%ED%8F%AC%ED%8A%B8_%EB%B2%A1%ED%84%B0_%EB%A8%B8%EC%8B%A0_%EC%8B%A4%EC%8A%B5.ipynb\" target=\"_parent\"><img src=\"https://colab.research.google.com/assets/colab-badge.svg\" alt=\"Open In Colab\"/></a>"
      ]
    },
    {
      "cell_type": "code",
      "metadata": {
        "id": "E8IbplJLtnRx"
      },
      "source": [
        "\"\"\"\n",
        "날짜 : 2021/07/07\n",
        "이름 : 김철학\n",
        "내용 : 서포트 벡터 머신 실습하기\n",
        "\"\"\"\n",
        "import pandas as pd\n",
        "from sklearn.linear_model import LinearRegression\n",
        "from sklearn.linear_model import LogisticRegression\n",
        "from sklearn import svm, metrics\n",
        "from sklearn.model_selection import train_test_split\n",
        "from google.colab import drive"
      ],
      "execution_count": 14,
      "outputs": []
    },
    {
      "cell_type": "code",
      "metadata": {
        "id": "wm5IeSV7t9-w"
      },
      "source": [
        "#데이터 불러오기\n",
        "df_iris = pd.read_csv('/content/drive/MyDrive/Colab Notebooks/file/iris.csv')\n",
        "df_iris"
      ],
      "execution_count": null,
      "outputs": []
    },
    {
      "cell_type": "code",
      "metadata": {
        "colab": {
          "base_uri": "https://localhost:8080/"
        },
        "id": "Z3ZvZx2zu1up",
        "outputId": "f93c37fd-84d4-4872-fde6-5348528ca66e"
      },
      "source": [
        "#학습데이터\n",
        "iris_data = df_iris[['sepal.length', 'sepal.width', 'petal.length', 'petal.width']]\n",
        "iris_label = df_iris['variety']\n",
        "\n",
        "train_data, test_data, train_label, test_label = train_test_split(iris_data, iris_label)"
      ],
      "execution_count": 6,
      "outputs": [
        {
          "output_type": "execute_result",
          "data": {
            "text/plain": [
              "(38, 4)"
            ]
          },
          "metadata": {
            "tags": []
          },
          "execution_count": 6
        }
      ]
    },
    {
      "cell_type": "code",
      "metadata": {
        "id": "GyGhFtfYxQyl"
      },
      "source": [
        "test_label"
      ],
      "execution_count": null,
      "outputs": []
    },
    {
      "cell_type": "code",
      "metadata": {
        "colab": {
          "base_uri": "https://localhost:8080/"
        },
        "id": "9ByT9J2xvgEA",
        "outputId": "472caa4e-0626-46f5-92f2-0a8c562203d6"
      },
      "source": [
        "#학습하기\n",
        "model = svm.SVC()\n",
        "#model = LogisticRegression()\n",
        "model.fit(train_data, train_label)"
      ],
      "execution_count": 28,
      "outputs": [
        {
          "output_type": "execute_result",
          "data": {
            "text/plain": [
              "LogisticRegression(C=1.0, class_weight=None, dual=False, fit_intercept=True,\n",
              "                   intercept_scaling=1, l1_ratio=None, max_iter=100,\n",
              "                   multi_class='auto', n_jobs=None, penalty='l2',\n",
              "                   random_state=None, solver='lbfgs', tol=0.0001, verbose=0,\n",
              "                   warm_start=False)"
            ]
          },
          "metadata": {
            "tags": []
          },
          "execution_count": 28
        }
      ]
    },
    {
      "cell_type": "code",
      "metadata": {
        "colab": {
          "base_uri": "https://localhost:8080/"
        },
        "id": "mTnNYicDwhdR",
        "outputId": "4c02b7fe-228a-4fed-b308-ee5a0e24e6d9"
      },
      "source": [
        "#테스트하기\n",
        "result = model.predict(test_data)\n",
        "result"
      ],
      "execution_count": 29,
      "outputs": [
        {
          "output_type": "execute_result",
          "data": {
            "text/plain": [
              "array(['Setosa', 'Virginica', 'Versicolor', 'Versicolor', 'Versicolor',\n",
              "       'Versicolor', 'Setosa', 'Virginica', 'Setosa', 'Setosa', 'Setosa',\n",
              "       'Virginica', 'Versicolor', 'Virginica', 'Setosa', 'Virginica',\n",
              "       'Virginica', 'Versicolor', 'Versicolor', 'Versicolor', 'Virginica',\n",
              "       'Virginica', 'Virginica', 'Setosa', 'Setosa', 'Versicolor',\n",
              "       'Setosa', 'Versicolor', 'Setosa', 'Versicolor', 'Virginica',\n",
              "       'Setosa', 'Virginica', 'Virginica', 'Virginica', 'Versicolor',\n",
              "       'Setosa', 'Virginica'], dtype=object)"
            ]
          },
          "metadata": {
            "tags": []
          },
          "execution_count": 29
        }
      ]
    },
    {
      "cell_type": "code",
      "metadata": {
        "colab": {
          "base_uri": "https://localhost:8080/"
        },
        "id": "WwZxB_eYwohw",
        "outputId": "41e873a9-1d6b-4fd9-bcec-170295336a6f"
      },
      "source": [
        "#성능평가(학습률)\n",
        "score = metrics.accuracy_score(result, test_label)\n",
        "score\n"
      ],
      "execution_count": 30,
      "outputs": [
        {
          "output_type": "execute_result",
          "data": {
            "text/plain": [
              "0.9210526315789473"
            ]
          },
          "metadata": {
            "tags": []
          },
          "execution_count": 30
        }
      ]
    },
    {
      "cell_type": "code",
      "metadata": {
        "id": "TCq0KgyJyGVg"
      },
      "source": [
        ""
      ],
      "execution_count": null,
      "outputs": []
    }
  ]
}